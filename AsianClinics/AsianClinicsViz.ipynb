{
 "cells": [
  {
   "cell_type": "code",
   "execution_count": 7,
   "id": "adverse-islam",
   "metadata": {},
   "outputs": [
    {
     "data": {
      "text/html": [
       "<div>\n",
       "<style scoped>\n",
       "    .dataframe tbody tr th:only-of-type {\n",
       "        vertical-align: middle;\n",
       "    }\n",
       "\n",
       "    .dataframe tbody tr th {\n",
       "        vertical-align: top;\n",
       "    }\n",
       "\n",
       "    .dataframe thead th {\n",
       "        text-align: right;\n",
       "    }\n",
       "</style>\n",
       "<table border=\"1\" class=\"dataframe\">\n",
       "  <thead>\n",
       "    <tr style=\"text-align: right;\">\n",
       "      <th></th>\n",
       "      <th>id</th>\n",
       "      <th>state</th>\n",
       "      <th>Number of Clinic</th>\n",
       "    </tr>\n",
       "  </thead>\n",
       "  <tbody>\n",
       "    <tr>\n",
       "      <th>0</th>\n",
       "      <td>1</td>\n",
       "      <td>Alabama</td>\n",
       "      <td>0</td>\n",
       "    </tr>\n",
       "    <tr>\n",
       "      <th>1</th>\n",
       "      <td>2</td>\n",
       "      <td>Alaska</td>\n",
       "      <td>0</td>\n",
       "    </tr>\n",
       "    <tr>\n",
       "      <th>2</th>\n",
       "      <td>4</td>\n",
       "      <td>Arizona</td>\n",
       "      <td>0</td>\n",
       "    </tr>\n",
       "    <tr>\n",
       "      <th>3</th>\n",
       "      <td>5</td>\n",
       "      <td>Arkansas</td>\n",
       "      <td>0</td>\n",
       "    </tr>\n",
       "    <tr>\n",
       "      <th>4</th>\n",
       "      <td>6</td>\n",
       "      <td>California</td>\n",
       "      <td>170</td>\n",
       "    </tr>\n",
       "  </tbody>\n",
       "</table>\n",
       "</div>"
      ],
      "text/plain": [
       "   id       state  Number of Clinic\n",
       "0   1     Alabama                 0\n",
       "1   2      Alaska                 0\n",
       "2   4     Arizona                 0\n",
       "3   5    Arkansas                 0\n",
       "4   6  California               170"
      ]
     },
     "execution_count": 7,
     "metadata": {},
     "output_type": "execute_result"
    }
   ],
   "source": [
    "import pandas as pd\n",
    "import altair as alt\n",
    "from vega_datasets import data\n",
    "# Create a Dataframe from a CSV\n",
    "dataCSV = pd.read_csv('asianClinicsbyState.csv')\n",
    "\n",
    "# Drop rows with any empty cells\n",
    "dataCSV.dropna(\n",
    "    axis=0,\n",
    "    how='any',\n",
    "    thresh=None,\n",
    "    subset=None,\n",
    "    inplace=True\n",
    ")\n",
    "dataCSV.head()"
   ]
  },
  {
   "cell_type": "code",
   "execution_count": 15,
   "id": "hydraulic-prince",
   "metadata": {},
   "outputs": [
    {
     "data": {
      "text/plain": [
       "DataTransformerRegistry.enable('default')"
      ]
     },
     "execution_count": 15,
     "metadata": {},
     "output_type": "execute_result"
    }
   ],
   "source": [
    "alt.data_transformers.disable_max_rows()"
   ]
  },
  {
   "cell_type": "code",
   "execution_count": 9,
   "id": "therapeutic-receptor",
   "metadata": {},
   "outputs": [
    {
     "data": {
      "text/html": [
       "\n",
       "<div id=\"altair-viz-809b1051007d40ccbbd23b80f1197744\"></div>\n",
       "<script type=\"text/javascript\">\n",
       "  (function(spec, embedOpt){\n",
       "    let outputDiv = document.currentScript.previousElementSibling;\n",
       "    if (outputDiv.id !== \"altair-viz-809b1051007d40ccbbd23b80f1197744\") {\n",
       "      outputDiv = document.getElementById(\"altair-viz-809b1051007d40ccbbd23b80f1197744\");\n",
       "    }\n",
       "    const paths = {\n",
       "      \"vega\": \"https://cdn.jsdelivr.net/npm//vega@5?noext\",\n",
       "      \"vega-lib\": \"https://cdn.jsdelivr.net/npm//vega-lib?noext\",\n",
       "      \"vega-lite\": \"https://cdn.jsdelivr.net/npm//vega-lite@4.8.1?noext\",\n",
       "      \"vega-embed\": \"https://cdn.jsdelivr.net/npm//vega-embed@6?noext\",\n",
       "    };\n",
       "\n",
       "    function loadScript(lib) {\n",
       "      return new Promise(function(resolve, reject) {\n",
       "        var s = document.createElement('script');\n",
       "        s.src = paths[lib];\n",
       "        s.async = true;\n",
       "        s.onload = () => resolve(paths[lib]);\n",
       "        s.onerror = () => reject(`Error loading script: ${paths[lib]}`);\n",
       "        document.getElementsByTagName(\"head\")[0].appendChild(s);\n",
       "      });\n",
       "    }\n",
       "\n",
       "    function showError(err) {\n",
       "      outputDiv.innerHTML = `<div class=\"error\" style=\"color:red;\">${err}</div>`;\n",
       "      throw err;\n",
       "    }\n",
       "\n",
       "    function displayChart(vegaEmbed) {\n",
       "      vegaEmbed(outputDiv, spec, embedOpt)\n",
       "        .catch(err => showError(`Javascript Error: ${err.message}<br>This usually means there's a typo in your chart specification. See the javascript console for the full traceback.`));\n",
       "    }\n",
       "\n",
       "    if(typeof define === \"function\" && define.amd) {\n",
       "      requirejs.config({paths});\n",
       "      require([\"vega-embed\"], displayChart, err => showError(`Error loading script: ${err.message}`));\n",
       "    } else if (typeof vegaEmbed === \"function\") {\n",
       "      displayChart(vegaEmbed);\n",
       "    } else {\n",
       "      loadScript(\"vega\")\n",
       "        .then(() => loadScript(\"vega-lite\"))\n",
       "        .then(() => loadScript(\"vega-embed\"))\n",
       "        .catch(showError)\n",
       "        .then(() => displayChart(vegaEmbed));\n",
       "    }\n",
       "  })({\"config\": {\"view\": {\"continuousWidth\": 400, \"continuousHeight\": 300}}, \"hconcat\": [{\"data\": {\"url\": \"https://cdn.jsdelivr.net/npm/vega-datasets@v1.29.0/data/us-10m.json\", \"format\": {\"feature\": \"states\", \"type\": \"topojson\"}}, \"mark\": \"geoshape\", \"encoding\": {\"color\": {\"type\": \"quantitative\", \"field\": \"Number of Clinic\"}, \"opacity\": {\"condition\": {\"value\": 1, \"selection\": \"selector007\"}, \"value\": 0.2}, \"tooltip\": [{\"type\": \"nominal\", \"field\": \"state\"}, {\"type\": \"quantitative\", \"field\": \"Number of Clinic\"}]}, \"projection\": {\"type\": \"albersUsa\"}, \"selection\": {\"selector007\": {\"type\": \"multi\", \"fields\": [\"state\"]}}, \"transform\": [{\"lookup\": \"id\", \"from\": {\"data\": {\"name\": \"data-5b7f0878cabf061290e404caee5ae374\"}, \"key\": \"id\", \"fields\": [\"Number of Clinic\", \"state\"]}}]}, {\"data\": {\"name\": \"data-db3166f2dd6fec2f454402832348f9fa\"}, \"mark\": \"bar\", \"encoding\": {\"color\": {\"type\": \"quantitative\", \"field\": \"Number of Clinic\"}, \"opacity\": {\"condition\": {\"value\": 1, \"selection\": \"selector007\"}, \"value\": 0.2}, \"tooltip\": [{\"type\": \"nominal\", \"field\": \"state\"}, {\"type\": \"quantitative\", \"field\": \"Number of Clinic\"}], \"x\": {\"type\": \"quantitative\", \"field\": \"Number of Clinic\"}, \"y\": {\"type\": \"nominal\", \"field\": \"state\", \"sort\": \"x\"}}, \"selection\": {\"selector007\": {\"type\": \"multi\", \"fields\": [\"state\"]}}, \"title\": \"Top 15 States by Number of Clinic\"}], \"$schema\": \"https://vega.github.io/schema/vega-lite/v4.8.1.json\", \"datasets\": {\"data-5b7f0878cabf061290e404caee5ae374\": [{\"id\": 1, \"state\": \"Alabama\", \"Number of Clinic\": 0}, {\"id\": 2, \"state\": \"Alaska\", \"Number of Clinic\": 0}, {\"id\": 4, \"state\": \"Arizona\", \"Number of Clinic\": 0}, {\"id\": 5, \"state\": \"Arkansas\", \"Number of Clinic\": 0}, {\"id\": 6, \"state\": \"California\", \"Number of Clinic\": 170}, {\"id\": 8, \"state\": \"Colorado\", \"Number of Clinic\": 0}, {\"id\": 9, \"state\": \"Connecticut\", \"Number of Clinic\": 0}, {\"id\": 10, \"state\": \"Delaware\", \"Number of Clinic\": 0}, {\"id\": 11, \"state\": \"District of Columbia\", \"Number of Clinic\": 0}, {\"id\": 12, \"state\": \"Florida\", \"Number of Clinic\": 2}, {\"id\": 13, \"state\": \"Georgia\", \"Number of Clinic\": 0}, {\"id\": 15, \"state\": \"Hawaii\", \"Number of Clinic\": 0}, {\"id\": 16, \"state\": \"Idaho\", \"Number of Clinic\": 0}, {\"id\": 17, \"state\": \"Illinois\", \"Number of Clinic\": 2}, {\"id\": 18, \"state\": \"Indiana\", \"Number of Clinic\": 0}, {\"id\": 19, \"state\": \"Iowa\", \"Number of Clinic\": 0}, {\"id\": 20, \"state\": \"Kansas\", \"Number of Clinic\": 0}, {\"id\": 21, \"state\": \"Kentucky\", \"Number of Clinic\": 0}, {\"id\": 22, \"state\": \"Louisiana\", \"Number of Clinic\": 0}, {\"id\": 23, \"state\": \"Maine\", \"Number of Clinic\": 0}, {\"id\": 24, \"state\": \"Maryland\", \"Number of Clinic\": 2}, {\"id\": 25, \"state\": \"Massachusetts\", \"Number of Clinic\": 6}, {\"id\": 26, \"state\": \"Michigan\", \"Number of Clinic\": 0}, {\"id\": 27, \"state\": \"Minnesota\", \"Number of Clinic\": 0}, {\"id\": 28, \"state\": \"Mississippi\", \"Number of Clinic\": 0}, {\"id\": 29, \"state\": \"Missouri\", \"Number of Clinic\": 0}, {\"id\": 30, \"state\": \"Montana\", \"Number of Clinic\": 0}, {\"id\": 31, \"state\": \"Nebraska\", \"Number of Clinic\": 0}, {\"id\": 32, \"state\": \"Nevada\", \"Number of Clinic\": 0}, {\"id\": 33, \"state\": \"New Hampshire\", \"Number of Clinic\": 0}, {\"id\": 34, \"state\": \"New Jersey\", \"Number of Clinic\": 2}, {\"id\": 35, \"state\": \"New Mexico\", \"Number of Clinic\": 0}, {\"id\": 36, \"state\": \"New York\", \"Number of Clinic\": 23}, {\"id\": 37, \"state\": \"North Carolina\", \"Number of Clinic\": 0}, {\"id\": 38, \"state\": \"North Dakota\", \"Number of Clinic\": 0}, {\"id\": 39, \"state\": \"Ohio\", \"Number of Clinic\": 0}, {\"id\": 40, \"state\": \"Oklahoma\", \"Number of Clinic\": 0}, {\"id\": 41, \"state\": \"Oregon\", \"Number of Clinic\": 0}, {\"id\": 42, \"state\": \"Pennsylvania\", \"Number of Clinic\": 4}, {\"id\": 44, \"state\": \"Rhode Island\", \"Number of Clinic\": 1}, {\"id\": 45, \"state\": \"South Carolina\", \"Number of Clinic\": 0}, {\"id\": 46, \"state\": \"South Dakota\", \"Number of Clinic\": 0}, {\"id\": 47, \"state\": \"Tennessee\", \"Number of Clinic\": 0}, {\"id\": 48, \"state\": \"Texas\", \"Number of Clinic\": 0}, {\"id\": 49, \"state\": \"Utah\", \"Number of Clinic\": 0}, {\"id\": 50, \"state\": \"Vermont\", \"Number of Clinic\": 0}, {\"id\": 51, \"state\": \"Virginia\", \"Number of Clinic\": 0}, {\"id\": 53, \"state\": \"Washington\", \"Number of Clinic\": 2}, {\"id\": 54, \"state\": \"West Virginia\", \"Number of Clinic\": 0}, {\"id\": 55, \"state\": \"Wisconsin\", \"Number of Clinic\": 0}, {\"id\": 56, \"state\": \"Wyoming\", \"Number of Clinic\": 0}, {\"id\": 72, \"state\": \"Puerto Rico\", \"Number of Clinic\": 0}], \"data-db3166f2dd6fec2f454402832348f9fa\": [{\"id\": 6, \"state\": \"California\", \"Number of Clinic\": 170}, {\"id\": 36, \"state\": \"New York\", \"Number of Clinic\": 23}, {\"id\": 25, \"state\": \"Massachusetts\", \"Number of Clinic\": 6}, {\"id\": 42, \"state\": \"Pennsylvania\", \"Number of Clinic\": 4}, {\"id\": 12, \"state\": \"Florida\", \"Number of Clinic\": 2}, {\"id\": 17, \"state\": \"Illinois\", \"Number of Clinic\": 2}, {\"id\": 24, \"state\": \"Maryland\", \"Number of Clinic\": 2}, {\"id\": 34, \"state\": \"New Jersey\", \"Number of Clinic\": 2}, {\"id\": 53, \"state\": \"Washington\", \"Number of Clinic\": 2}, {\"id\": 44, \"state\": \"Rhode Island\", \"Number of Clinic\": 1}, {\"id\": 1, \"state\": \"Alabama\", \"Number of Clinic\": 0}, {\"id\": 2, \"state\": \"Alaska\", \"Number of Clinic\": 0}, {\"id\": 4, \"state\": \"Arizona\", \"Number of Clinic\": 0}, {\"id\": 5, \"state\": \"Arkansas\", \"Number of Clinic\": 0}, {\"id\": 8, \"state\": \"Colorado\", \"Number of Clinic\": 0}]}}, {\"mode\": \"vega-lite\"});\n",
       "</script>"
      ],
      "text/plain": [
       "alt.HConcatChart(...)"
      ]
     },
     "execution_count": 9,
     "metadata": {},
     "output_type": "execute_result"
    }
   ],
   "source": [
    "state_map = alt.topo_feature(data.us_10m.url, 'states')\n",
    "\n",
    "click = alt.selection_multi(fields=['state'])\n",
    "\n",
    "choropleth = (alt.Chart(state_map).mark_geoshape().transform_lookup(\n",
    "    lookup='id',\n",
    "    from_=alt.LookupData(dataCSV, 'id', ['Number of Clinic', 'state']))\n",
    ".encode(\n",
    "    color='Number of Clinic:Q',\n",
    "    opacity=alt.condition(click, alt.value(1), alt.value(0.2)),\n",
    "    tooltip=['state:N', 'Number of Clinic:Q'])\n",
    ".add_selection(click)\n",
    ".project(type='albersUsa'))\n",
    "\n",
    "bars = (\n",
    "    alt.Chart(\n",
    "        dataCSV.nlargest(15, 'Number of Clinic'),\n",
    "        title='Top 15 States by Number of Clinic').mark_bar().encode(\n",
    "    x='Number of Clinic',\n",
    "    opacity=alt.condition(click, alt.value(1), alt.value(0.2)),\n",
    "    color='Number of Clinic',\n",
    "    y=alt.Y('state', sort='x'),\n",
    "    tooltip = ['state:N', 'Number of Clinic:Q'])\n",
    ".add_selection(click))\n",
    "\n",
    "# asianRestaurantsMap = alt.Chart(AsianRest).mark_circle().encode(\n",
    "#     longitude='longitude:Q',\n",
    "#     latitude='latitude:Q',\n",
    "#     size=alt.value(20),\n",
    "#     color=alt.value('#ff2400')\n",
    "# #     tooltip=['name:N', 'address:N', 'city:N', 'state:N', 'categories:N']\n",
    "# ).project(\n",
    "#     \"albersUsa\"\n",
    "# )\n",
    "\n",
    "# restaurantMap = choropleth + asianRestaurantsMap\n",
    "clinicMap = choropleth | bars\n",
    "clinicMap"
   ]
  },
  {
   "cell_type": "code",
   "execution_count": 10,
   "id": "cardiovascular-activity",
   "metadata": {},
   "outputs": [],
   "source": [
    "clinicMap.save(\"AsianClinicMap.html\", embed_options={\"render\": \"svg\"})"
   ]
  },
  {
   "cell_type": "code",
   "execution_count": null,
   "id": "constitutional-crack",
   "metadata": {},
   "outputs": [],
   "source": []
  }
 ],
 "metadata": {
  "kernelspec": {
   "display_name": "Python 3",
   "language": "python",
   "name": "python3"
  },
  "language_info": {
   "codemirror_mode": {
    "name": "ipython",
    "version": 3
   },
   "file_extension": ".py",
   "mimetype": "text/x-python",
   "name": "python",
   "nbconvert_exporter": "python",
   "pygments_lexer": "ipython3",
   "version": "3.9.1"
  }
 },
 "nbformat": 4,
 "nbformat_minor": 5
}
